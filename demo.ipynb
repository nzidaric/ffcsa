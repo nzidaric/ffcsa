{
 "cells": [
  {
   "cell_type": "markdown",
   "id": "c77b6158",
   "metadata": {},
   "source": [
    "<h1>FFCSA demo examples</h1>"
   ]
  },
  {
   "cell_type": "markdown",
   "id": "b8d0674d",
   "metadata": {},
   "source": [
    "Load packages"
   ]
  },
  {
   "cell_type": "code",
   "execution_count": 1,
   "id": "e3ffaa77",
   "metadata": {},
   "outputs": [
    {
     "name": "stdout",
     "output_type": "stream",
     "text": [
      "misc.gd OK,\toutputs.gd OK,\tfsr.gd OK,\tlfsr.gd OK,\tnlfsr.gd OK,\tfilfun.gd OK,\to\\\n",
      "utfsr.gd OK,\tdrawlfsr.gd OK,\tdrawnlfsr.gd OK,\tinit.g done!!!\n",
      "misc.gi OK,\toutputs.gi OK,\tfsr.gi OK,\tlfsr.gi OK,\tnlfsr.gi OK,\tfsrfil.gi OK,\to\\\n",
      "utfsr.gi OK,\tdrawlfsr.gi OK,\tdrawnlfsr.gi OK,\tread.g done!!!\n",
      "\n",
      "You can now use 200 variables x_0 ...x_199\n"
     ]
    },
    {
     "data": {
      "text/plain": [
       "true"
      ]
     },
     "execution_count": 1,
     "metadata": {
      "text/plain": ""
     },
     "output_type": "execute_result"
    }
   ],
   "source": [
    "LoadPackage(\"fsr\");"
   ]
  },
  {
   "cell_type": "code",
   "execution_count": 2,
   "id": "1597c636",
   "metadata": {},
   "outputs": [
    {
     "name": "stdout",
     "output_type": "stream",
     "text": [
      "misc.gd OK,\tweight.gd OK,\tmatrix.gd OK,\tnb.gd OK,\tfindElm.gd OK,\tfindPoly.gd O\\\n",
      "K,\tffbases.gd  OK,\tfindElm.gd OK,\tfindPolySpecial.gd OK,\talgs.gd OK,\talgsmatri\\\n",
      "x.gd OK,\tinit.g done!!!\n",
      "misc.gi OK,\tweight.gi OK,\tmatrix.gi OK,\tnb.gi OK,\tfindElm.gi OK,\tfindPoly.gi O\\\n",
      "K,\tffbases.gi  OK,\tfindElmSpecial.gi OK,\tfindPolySpecial.gi OK,\t\n",
      "variables\n",
      "[ \"a_0\", \"a_1\", \"a_2\", \"a_3\", \"a_4\", \"a_5\", \"a_6\", \"a_7\", \"a_8\", \"a_9\" ]\n",
      "[ \"b_0\", \"b_1\", \"b_2\", \"b_3\", \"b_4\", \"b_5\", \"b_6\", \"b_7\", \"b_8\", \"b_9\" ]\n",
      "[ \"d_0\", \"d_1\", \"d_2\", \"d_3\", \"d_4\", \"d_5\", \"d_6\", \"d_7\", \"d_8\", \"d_9\", \n",
      "  \"d_10\", \"d_11\", \"d_12\", \"d_13\", \"d_14\", \"d_15\", \"d_16\", \"d_17\", \"d_18\" ]\n",
      "algs.gi OK,\talgsmatrix.gi OK,\tread.g done!!!\n"
     ]
    },
    {
     "data": {
      "text/plain": [
       "true"
      ]
     },
     "execution_count": 2,
     "metadata": {
      "text/plain": ""
     },
     "output_type": "execute_result"
    }
   ],
   "source": [
    "LoadPackage(\"ffcsa\");"
   ]
  },
  {
   "cell_type": "markdown",
   "id": "86c2c9d0",
   "metadata": {},
   "source": [
    " <h2>Multiplication expressions for ${\\mathbb F}_{2^4}$</h2>\n",
    " "
   ]
  },
  {
   "cell_type": "markdown",
   "id": "35550471",
   "metadata": {},
   "source": [
    "We use irreducible polynomial $f(x)=x^4+x+1$ with root $\\rho\\in{\\mathbb F}_{2^4}$ and the polynomial basis \n",
    "${\\rm PB}=\\{1, \\rho, \\rho^2, \\rho^3\\}$. \n",
    "The GAP code below shows the setup\n"
   ]
  },
  {
   "cell_type": "code",
   "execution_count": 7,
   "id": "1bae4a6b",
   "metadata": {},
   "outputs": [
    {
     "data": {
      "text/plain": [
       "Basis( GF(2^4), [ Z(2)^0, Z(2^4), Z(2^4)^2, Z(2^4)^3 ] )"
      ]
     },
     "execution_count": 7,
     "metadata": {
      "text/plain": ""
     },
     "output_type": "execute_result"
    }
   ],
   "source": [
    "K := GF(2);; x := X(K, \"x\");;\n",
    "f := x^4+x+1;; F := FieldExtension(K,  f);;\n",
    "PB := GeneratePB(F, RootOfDefiningPolynomial(F));\n"
   ]
  },
  {
   "cell_type": "markdown",
   "id": "49daec9d",
   "metadata": {},
   "source": [
    "The `ChooseFieldElms($F$)` method prepares vectors $avec=\\left[a_0, \\dots , a_{m-1}\\right]$ and \n",
    "$bvec=\\left[b_0,\\dots,b_{m-1}\\right]$ with default direction `To`, where $m=[{\\mathbb F}_{2^4}:{\\mathbb F}_{2}]$ is the degree of extension.\n",
    "Note that $a_i, b_j$ are not coefficients, but \n",
    "[GAP variables](https://docs.gap-system.org/doc/ref/chap4_mj.html#X7A4C2D0E7E286B4F) \n",
    "to allow symbolic computation. \n",
    " "
   ]
  },
  {
   "cell_type": "code",
   "execution_count": 8,
   "id": "8856f519",
   "metadata": {},
   "outputs": [
    {
     "name": "stdout",
     "output_type": "stream",
     "text": [
      "\n",
      "variables\n",
      "[ \"a_0\", \"a_1\", \"a_2\", \"a_3\" ]\n",
      "[ \"b_0\", \"b_1\", \"b_2\", \"b_3\" ]\n",
      "[ \"d_0\", \"d_1\", \"d_2\", \"d_3\", \"d_4\", \"d_5\", \"d_6\" ]\n"
     ]
    }
   ],
   "source": [
    "ChooseFieldElms(F);"
   ]
  },
  {
   "cell_type": "markdown",
   "id": "53a70ce6",
   "metadata": {},
   "source": [
    "Next we generate the multiplication matrix ${\\rm U}$ from basis ${\\rm PB}$ and variables in $avec$"
   ]
  },
  {
   "cell_type": "code",
   "execution_count": 10,
   "id": "31e21e62",
   "metadata": {},
   "outputs": [
    {
     "name": "stdout",
     "output_type": "stream",
     "text": [
      "[ a_0, a_3, a_2, a_1 ]\n",
      "[ a_1, a_0+a_3, a_2+a_3, a_1+a_2 ]\n",
      "[ a_2, a_1, a_0+a_3, a_2+a_3 ]\n",
      "[ a_3, a_2, a_1, a_0+a_3 ]\n"
     ]
    },
    {
     "data": {
      "text/plain": [
       "[ [ a_0, a_3, a_2, a_1 ], [ a_1, a_0+a_3, a_2+a_3, a_1+a_2 ],   [ a_2, a_1, a_0+a_3, a_2+a_3 ], [ a_3, a_2, a_1, a_0+a_3 ] ]"
      ]
     },
     "execution_count": 9,
     "metadata": {
      "text/plain": ""
     },
     "output_type": "execute_result"
    }
   ],
   "source": [
    "U := MatrixUExpression(PB, avec);\n",
    "for i in U do Display(i); od;"
   ]
  },
  {
   "cell_type": "markdown",
   "id": "35c8280c",
   "metadata": {},
   "source": [
    "Method `FFA_mult_matrixU` produces the expressions used for the hardware implementation\n",
    "by multiplying ${\\rm U}$ and $bvec$\n",
    " "
   ]
  },
  {
   "cell_type": "code",
   "execution_count": 12,
   "id": "7cae0822",
   "metadata": {},
   "outputs": [
    {
     "name": "stdout",
     "output_type": "stream",
     "text": [
      "a_0*b_0+a_1*b_3+a_2*b_2+a_3*b_1\n",
      "a_0*b_1+a_1*b_0+a_1*b_3+a_2*b_2+a_2*b_3+a_3*b_1+a_3*b_2\n",
      "a_0*b_2+a_1*b_1+a_2*b_0+a_2*b_3+a_3*b_2+a_3*b_3\n",
      "a_0*b_3+a_1*b_2+a_2*b_1+a_3*b_0+a_3*b_3\n"
     ]
    }
   ],
   "source": [
    "mult := FFA_mult_matrixU(PB, avec, bvec);; \n",
    "for i in mult do Display(i); od; "
   ]
  },
  {
   "cell_type": "markdown",
   "id": "25ce1b82",
   "metadata": {},
   "source": [
    "For example, to drive the multiplier output $c_0$, \n",
    "the expression $a_0b_0+a_1b_3+a_2b_2+a_3b_1$ \n",
    "must be implemented in hardware. "
   ]
  }
 ],
 "metadata": {
  "kernelspec": {
   "display_name": "GAP 4",
   "language": "gap",
   "name": "gap-4"
  },
  "language_info": {
   "codemirror_mode": "gap",
   "file_extension": ".g",
   "mimetype": "text/x-gap",
   "name": "GAP 4",
   "nbconvert_exporter": "",
   "pygments_lexer": "gap",
   "version": "4.12.2"
  }
 },
 "nbformat": 4,
 "nbformat_minor": 5
}
