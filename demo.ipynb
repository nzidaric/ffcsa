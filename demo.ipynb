{
 "cells": [
  {
   "cell_type": "markdown",
   "id": "a5df20d2",
   "metadata": {},
   "source": [
    "# FFCSA demo examples"
   ]
  },
  {
   "cell_type": "markdown",
   "id": "10c54585",
   "metadata": {},
   "source": [
    "## Loading packages"
   ]
  },
  {
   "cell_type": "code",
   "execution_count": 1,
   "id": "0176c356",
   "metadata": {},
   "outputs": [
    {
     "name": "stdout",
     "output_type": "stream",
     "text": [
      "misc.gd OK,\toutputs.gd OK,\tfsr.gd OK,\tlfsr.gd OK,\tnlfsr.gd OK,\tfilfun.gd OK,\to\\\n",
      "utfsr.gd OK,\tdrawlfsr.gd OK,\tdrawnlfsr.gd OK,\tinit.g done!!!\n",
      "misc.gi OK,\toutputs.gi OK,\tfsr.gi OK,\tlfsr.gi OK,\tnlfsr.gi OK,\tfsrfil.gi OK,\to\\\n",
      "utfsr.gi OK,\tdrawlfsr.gi OK,\tdrawnlfsr.gi OK,\tread.g done!!!\n",
      "\n",
      "You can now use 200 variables x_0 ...x_199\n"
     ]
    },
    {
     "data": {
      "text/plain": [
       "true"
      ]
     },
     "execution_count": 1,
     "metadata": {
      "text/plain": ""
     },
     "output_type": "execute_result"
    }
   ],
   "source": [
    "LoadPackage(\"fsr\");"
   ]
  },
  {
   "cell_type": "code",
   "execution_count": 2,
   "id": "fde8a590",
   "metadata": {},
   "outputs": [
    {
     "name": "stdout",
     "output_type": "stream",
     "text": [
      "misc.gd OK,\tweight.gd OK,\tmatrix.gd OK,\tnb.gd OK,\tfindElm.gd OK,\tfindPoly.gd O\\\n",
      "K,\tffbases.gd  OK,\tfindElm.gd OK,\tfindPolySpecial.gd OK,\talgs.gd OK,\talgsmatri\\\n",
      "x.gd OK,\tinit.g done!!!\n",
      "misc.gi OK,\tweight.gi OK,\tmatrix.gi OK,\tnb.gi OK,\tfindElm.gi OK,\tfindPoly.gi O\\\n",
      "K,\tffbases.gi  OK,\tfindElmSpecial.gi OK,\tfindPolySpecial.gi OK,\t\n",
      "variables\n",
      "[ \"a_0\", \"a_1\", \"a_2\", \"a_3\", \"a_4\", \"a_5\", \"a_6\", \"a_7\", \"a_8\", \"a_9\" ]\n",
      "[ \"b_0\", \"b_1\", \"b_2\", \"b_3\", \"b_4\", \"b_5\", \"b_6\", \"b_7\", \"b_8\", \"b_9\" ]\n",
      "[ \"d_0\", \"d_1\", \"d_2\", \"d_3\", \"d_4\", \"d_5\", \"d_6\", \"d_7\", \"d_8\", \"d_9\", \n",
      "  \"d_10\", \"d_11\", \"d_12\", \"d_13\", \"d_14\", \"d_15\", \"d_16\", \"d_17\", \"d_18\" ]\n",
      "algs.gi OK,\talgsmatrix.gi OK,\tread.g done!!!\n"
     ]
    },
    {
     "data": {
      "text/plain": [
       "true"
      ]
     },
     "execution_count": 2,
     "metadata": {
      "text/plain": ""
     },
     "output_type": "execute_result"
    }
   ],
   "source": [
    "LoadPackage(\"ffcsa\");"
   ]
  },
  {
   "cell_type": "markdown",
   "id": "ee6f5e59",
   "metadata": {},
   "source": [
    "## Generating Multiplication Expressions for ${\\mathbb F}_{2^4}$\n",
    " "
   ]
  },
  {
   "cell_type": "markdown",
   "id": "32e4173a",
   "metadata": {},
   "source": [
    "We use irreducible polynomial $f(x)=x^4+x+1$ with root $\\rho\\in{\\mathbb F}_{2^4}$ and the polynomial basis \n",
    "${\\rm PB}=\\{1, \\rho, \\rho^2, \\rho^3\\}$. \n",
    "The GAP code below shows the setup\n"
   ]
  },
  {
   "cell_type": "code",
   "execution_count": 7,
   "id": "4d149059",
   "metadata": {},
   "outputs": [
    {
     "data": {
      "text/plain": [
       "Basis( GF(2^4), [ Z(2)^0, Z(2^4), Z(2^4)^2, Z(2^4)^3 ] )"
      ]
     },
     "execution_count": 7,
     "metadata": {
      "text/plain": ""
     },
     "output_type": "execute_result"
    }
   ],
   "source": [
    "K := GF(2);; x := X(K, \"x\");;\n",
    "f := x^4+x+1;; F := FieldExtension(K,  f);;\n",
    "PB := GeneratePB(F, RootOfDefiningPolynomial(F));\n"
   ]
  },
  {
   "cell_type": "markdown",
   "id": "30cd3774",
   "metadata": {},
   "source": [
    "The `ChooseFieldElms` method prepares vectors $avec=\\left[a_0, \\dots , a_{m-1}\\right]$ and \n",
    "$bvec=\\left[b_0,\\dots,b_{m-1}\\right]$ with default direction `To`, where $m=[{\\mathbb F}_{2^4}:{\\mathbb F}_{2}]$ is the degree of extension.\n",
    "Note that $a_i, b_j$ are not coefficients, but \n",
    "[GAP variables](https://docs.gap-system.org/doc/ref/chap4_mj.html#X7A4C2D0E7E286B4F) \n",
    "to allow symbolic computation. \n",
    " "
   ]
  },
  {
   "cell_type": "code",
   "execution_count": 8,
   "id": "f80d5b07",
   "metadata": {},
   "outputs": [
    {
     "name": "stdout",
     "output_type": "stream",
     "text": [
      "\n",
      "variables\n",
      "[ \"a_0\", \"a_1\", \"a_2\", \"a_3\" ]\n",
      "[ \"b_0\", \"b_1\", \"b_2\", \"b_3\" ]\n",
      "[ \"d_0\", \"d_1\", \"d_2\", \"d_3\", \"d_4\", \"d_5\", \"d_6\" ]\n"
     ]
    }
   ],
   "source": [
    "ChooseFieldElms(F);"
   ]
  },
  {
   "cell_type": "markdown",
   "id": "b14387a6",
   "metadata": {},
   "source": [
    "Next we generate the multiplication matrix ${\\rm U}$ from basis ${\\rm PB}$ and variables in $avec$"
   ]
  },
  {
   "cell_type": "code",
   "execution_count": 10,
   "id": "df1ecafa",
   "metadata": {},
   "outputs": [
    {
     "name": "stdout",
     "output_type": "stream",
     "text": [
      "[ a_0, a_3, a_2, a_1 ]\n",
      "[ a_1, a_0+a_3, a_2+a_3, a_1+a_2 ]\n",
      "[ a_2, a_1, a_0+a_3, a_2+a_3 ]\n",
      "[ a_3, a_2, a_1, a_0+a_3 ]\n"
     ]
    },
    {
     "data": {
      "text/plain": [
       "[ [ a_0, a_3, a_2, a_1 ], [ a_1, a_0+a_3, a_2+a_3, a_1+a_2 ],   [ a_2, a_1, a_0+a_3, a_2+a_3 ], [ a_3, a_2, a_1, a_0+a_3 ] ]"
      ]
     },
     "execution_count": 9,
     "metadata": {
      "text/plain": ""
     },
     "output_type": "execute_result"
    }
   ],
   "source": [
    "U := MatrixUExpression(PB, avec);\n",
    "for i in U do Display(i); od;"
   ]
  },
  {
   "cell_type": "markdown",
   "id": "1df5c49b",
   "metadata": {},
   "source": [
    "The `FFA_mult_matrixU` method produces the expressions used for the hardware implementation\n",
    "by multiplying ${\\rm U}$ and $bvec$\n",
    " "
   ]
  },
  {
   "cell_type": "code",
   "execution_count": 12,
   "id": "edf17c6b",
   "metadata": {},
   "outputs": [
    {
     "name": "stdout",
     "output_type": "stream",
     "text": [
      "a_0*b_0+a_1*b_3+a_2*b_2+a_3*b_1\n",
      "a_0*b_1+a_1*b_0+a_1*b_3+a_2*b_2+a_2*b_3+a_3*b_1+a_3*b_2\n",
      "a_0*b_2+a_1*b_1+a_2*b_0+a_2*b_3+a_3*b_2+a_3*b_3\n",
      "a_0*b_3+a_1*b_2+a_2*b_1+a_3*b_0+a_3*b_3\n"
     ]
    }
   ],
   "source": [
    "mult := FFA_mult_matrixU(PB, avec, bvec);; \n",
    "for i in mult do Display(i); od; "
   ]
  },
  {
   "cell_type": "markdown",
   "id": "89834203",
   "metadata": {},
   "source": [
    "For example, to drive the multiplier output $c_0$, \n",
    "the expression $a_0b_0+a_1b_3+a_2b_2+a_3b_1$ \n",
    "must be implemented in hardware. "
   ]
  },
  {
   "cell_type": "markdown",
   "id": "3f8aa3a5",
   "metadata": {},
   "source": [
    "## Generating Multiplication Expressions for ${\\mathbb F}_{((2^2)^2)^2}/{\\mathbb F}_{(2^2)^2}$\n"
   ]
  },
  {
   "cell_type": "markdown",
   "id": "490763ba",
   "metadata": {},
   "source": [
    "In this example we use the tower field ${\\mathbb F}_2 \\xrightarrow{f_1(x)} {\\mathbb F}_{2^2} \\xrightarrow{f_2(x)} {\\mathbb F}_{(2^2)^2} \\xrightarrow{f_3(x)} {\\mathbb F}_{((2^2)^2)^2} $ with defining polynomials \n",
    "- $f_1(x)=x^2 + x + 1$ with root $\\lambda$, i.e., $f_1(\\lambda)=0$ \n",
    "- $f_2(x)=x^2 + \\lambda x + 1$ with root $\\mu$, i.e., $f_2(\\mu)=0$ \n",
    "- $f_3(x)=x^2 + \\lambda x + \\lambda^2\\mu$ with root $\\nu$, i.e. $f_3(\\nu)=0$ \t\n",
    "\n",
    "and polynomial bases on each extension. \n",
    "\t"
   ]
  },
  {
   "cell_type": "code",
   "execution_count": 18,
   "id": "ed71de11",
   "metadata": {},
   "outputs": [],
   "source": [
    "f1 := x^2+x+Z(2)^0;;         F1 := FieldExtension(K,  f1);;\n",
    "f2 := x^2+Z(2^2)*x+Z(2)^0;;  F2 := FieldExtension(F1, f2);; \n",
    "f3 := x^2+Z(2^2)*x+Z(2^4);;  F3 := FieldExtension(F2, f3);; "
   ]
  },
  {
   "cell_type": "markdown",
   "id": "fc2e8ca0",
   "metadata": {},
   "source": [
    "First we need to prepare the variables. Note that `ChooseFieldElms(F3)` returns  vectors of length 2, not 8."
   ]
  },
  {
   "cell_type": "code",
   "execution_count": 19,
   "id": "b0ca997f",
   "metadata": {},
   "outputs": [
    {
     "name": "stdout",
     "output_type": "stream",
     "text": [
      "\n",
      "variables\n",
      "[ \"a_0\", \"a_1\" ]\n",
      "[ \"b_0\", \"b_1\" ]\n",
      "[ \"d_0\", \"d_1\", \"d_2\" ]\n"
     ]
    }
   ],
   "source": [
    "ChooseFieldElms(F3); "
   ]
  },
  {
   "cell_type": "markdown",
   "id": "8eabba18",
   "metadata": {},
   "source": [
    "The input to method `FFA_mult_matrixU` is the *per-level* polynomial basis `B3`$=\\{1,\\nu\\}$, obtained for\n",
    "${{\\mathbb F}_{((2^2)^2)^2}/{\\mathbb F}_{(2^2)^2}}$. "
   ]
  },
  {
   "cell_type": "code",
   "execution_count": 21,
   "id": "357aeaeb",
   "metadata": {},
   "outputs": [
    {
     "data": {
      "text/plain": [
       "Basis( AsField( AsField( GF(2^2), GF(2^4) ), GF(2^8) ), [ Z(2)^0, Z(2^8)^76  ] )"
      ]
     },
     "execution_count": 21,
     "metadata": {
      "text/plain": ""
     },
     "output_type": "execute_result"
    }
   ],
   "source": [
    "nu := RootOfDefiningPolynomial(F3);;\n",
    "B3 := GeneratePB(F3, nu); "
   ]
  },
  {
   "cell_type": "code",
   "execution_count": 23,
   "id": "92eb9cef",
   "metadata": {},
   "outputs": [
    {
     "name": "stdout",
     "output_type": "stream",
     "text": [
      "a_0*b_0+Z(2^4)*a_1*b_1\n",
      "a_0*b_1+a_1*b_0+Z(2^2)*a_1*b_1\n"
     ]
    }
   ],
   "source": [
    "multB3 := FFA_mult_matrixU(B3, avec, bvec);; \n",
    "for i in multB3 do \n",
    "    Display(i); \n",
    "od; "
   ]
  },
  {
   "cell_type": "markdown",
   "id": "07c354e7",
   "metadata": {},
   "source": [
    "Method `FFA_mult_matrixU` produces the expressions for two outputs of the multiplier. \n",
    "This multiplication is on the top level of the tower field ${{\\mathbb F}_{((2^2)^2)^2}/{\\mathbb F}_{(2^2)^2}}$.\n",
    "It contains submodules: multipliers on the lower level ${{\\mathbb F}_{(2^2)^2}}/{\\mathbb F}_{2^2}$.\n",
    "\n",
    "We also need two subfield constant multipliers for $\\gamma_1=\\lambda^2\\mu\\in{\\mathbb F}_{(2^2)^2}$\n",
    "and $\\gamma_2=\\lambda\\in{\\mathbb F}_{(2^2)^2}$. Although $\\lambda\\in{\\mathbb F}_{2^2}$, the product\n",
    "$a_1b_1\\in{\\mathbb F}_{(2^2)^2}$, therefore we must perform $\\times\\gamma_2$\n",
    "in ${\\mathbb F}_{(2^2)^2}/{\\mathbb F}_{2^2}$. \n"
   ]
  },
  {
   "cell_type": "code",
   "execution_count": 27,
   "id": "7b622f50",
   "metadata": {},
   "outputs": [
    {
     "data": {
      "text/plain": [
       "Z(2^4)"
      ]
     },
     "execution_count": 26,
     "metadata": {
      "text/plain": ""
     },
     "output_type": "execute_result"
    },
    {
     "data": {
      "text/plain": [
       "Z(2^2)"
      ]
     },
     "execution_count": 27,
     "metadata": {
      "text/plain": ""
     },
     "output_type": "execute_result"
    }
   ],
   "source": [
    "lambda := RootOfDefiningPolynomial(F1);;\n",
    "mu := RootOfDefiningPolynomial(F2);; \n",
    "lambda^2*mu;\n",
    "lambda; "
   ]
  },
  {
   "cell_type": "markdown",
   "id": "068ef4df",
   "metadata": {},
   "source": [
    "## Extracting submodules"
   ]
  },
  {
   "cell_type": "markdown",
   "id": "c42d9629",
   "metadata": {},
   "source": [
    "We parse the top-level expressions to extract submodules. \n",
    "First we ensure all exponents are reduced, then we split the expression into two vectors:\n",
    "- monomials $\\rightarrow $ finite field multiplications and exponentiations\n",
    "- coefficients $\\rightarrow $ multiplicative and additive constants \n",
    "\n",
    "Note that the *new* top-level is  ${\\mathbb F}_{(2^2)^2}$: we already generated the expressions for \n",
    "arithmetic in ${\\mathbb F}_{((2^2)^2)^2}$ and moved a level down to ${\\mathbb F}_{(2^2)^2}$\n"
   ]
  },
  {
   "cell_type": "code",
   "execution_count": 29,
   "id": "bca8dcb2",
   "metadata": {},
   "outputs": [
    {
     "data": {
      "text/plain": [
       "[ [ Z(2)^0, Z(2^4) ], [ a_0*b_0, a_1*b_1 ] ]"
      ]
     },
     "execution_count": 29,
     "metadata": {
      "text/plain": ""
     },
     "output_type": "execute_result"
    }
   ],
   "source": [
    "expr := multB3[1];; \n",
    "SplitCoeffsAndMonomials(F2,expr);"
   ]
  },
  {
   "cell_type": "markdown",
   "id": "7f37bc8c",
   "metadata": {},
   "source": [
    "## Test vectors for tower field constructions"
   ]
  },
  {
   "cell_type": "markdown",
   "id": "74906b6d",
   "metadata": {},
   "source": [
    "FFCSA can generate different tower-field bases (\\eg\\ NB on first and PB on second extension). To continue the example in this demo, we use a basis of ${{\\mathbb F}_{2^8}/{\\mathbb F}_2}$, obtained as products of *per-level* basis elements\n",
    " ${\\rm B}_{{\\mathbb F}_{2^8}/{\\mathbb F}_2}=\\{t_0, t_1, \\dots , t_7\\}\n",
    "=\\{1, \\lambda, \\mu, \\mu\\lambda,\\nu, \\nu\\lambda, \\nu\\mu, \\nu\\mu\\lambda\\}.$\n"
   ]
  },
  {
   "cell_type": "code",
   "execution_count": 32,
   "id": "79989e41",
   "metadata": {},
   "outputs": [
    {
     "data": {
      "text/plain": [
       "[ [ \"PB\", \"to\" ], [ \"PB\", \"to\" ], [ \"PB\", \"to\" ] ]"
      ]
     },
     "execution_count": 30,
     "metadata": {
      "text/plain": ""
     },
     "output_type": "execute_result"
    },
    {
     "data": {
      "text/plain": [
       "Basis( GF(2^8), [ Z(2)^0, Z(2^2), Z(2^4)^6, Z(2^4)^11, Z(2^8)^76, Z(2^8)^161,   Z(2^8)^178, Z(2^8)^8 ] )"
      ]
     },
     "execution_count": 31,
     "metadata": {
      "text/plain": ""
     },
     "output_type": "execute_result"
    },
    {
     "data": {
      "text/plain": [
       "Z(2^8)^8"
      ]
     },
     "execution_count": 32,
     "metadata": {
      "text/plain": ""
     },
     "output_type": "execute_result"
    }
   ],
   "source": [
    "Mlist := [[\"PB\", \"to\"], [\"PB\", \"to\"], [\"PB\", \"to\"]];\n",
    "TFB2 := GenerateTFBfromEDPLwithMB([f1, f2, f3 ] , Mlist);\n",
    "nu*mu*lambda;"
   ]
  },
  {
   "cell_type": "markdown",
   "id": "bde53fcb",
   "metadata": {},
   "source": [
    "We can now generate test-vectors for verification of the multiplier:"
   ]
  },
  {
   "cell_type": "code",
   "execution_count": 38,
   "id": "2b3099b7",
   "metadata": {},
   "outputs": [
    {
     "data": {
      "text/plain": [
       "Z(2^8)^20"
      ]
     },
     "execution_count": 35,
     "metadata": {
      "text/plain": ""
     },
     "output_type": "execute_result"
    },
    {
     "data": {
      "text/plain": [
       "\"11101010\""
      ]
     },
     "execution_count": 36,
     "metadata": {
      "text/plain": ""
     },
     "output_type": "execute_result"
    },
    {
     "data": {
      "text/plain": [
       "\"00101110\""
      ]
     },
     "execution_count": 37,
     "metadata": {
      "text/plain": ""
     },
     "output_type": "execute_result"
    },
    {
     "data": {
      "text/plain": [
       "\"10001010\""
      ]
     },
     "execution_count": 38,
     "metadata": {
      "text/plain": ""
     },
     "output_type": "execute_result"
    }
   ],
   "source": [
    "a := Z(2^8)^15;;\n",
    "b := Z(2^8)^5;;\n",
    "c := a*b; \n",
    "VecToString(Coefficients(TFB2, a));\n",
    "VecToString(Coefficients(TFB2, b));\n",
    "VecToString(Coefficients(TFB2, c)); "
   ]
  }
 ],
 "metadata": {
  "kernelspec": {
   "display_name": "GAP 4",
   "language": "gap",
   "name": "gap-4"
  },
  "language_info": {
   "codemirror_mode": "gap",
   "file_extension": ".g",
   "mimetype": "text/x-gap",
   "name": "GAP 4",
   "nbconvert_exporter": "",
   "pygments_lexer": "gap",
   "version": "4.12.2"
  }
 },
 "nbformat": 4,
 "nbformat_minor": 5
}
