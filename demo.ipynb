{
 "cells": [
  {
   "cell_type": "code",
   "execution_count": 1,
   "metadata": {},
   "outputs": [
    {
     "name": "stdout",
     "output_type": "stream",
     "text": [
      "misc.gd OK,\toutputs.gd OK,\tfsr.gd OK,\tlfsr.gd OK,\tnlfsr.gd OK,\tfilfun.gd OK,\to\\\n",
      "utfsr.gd OK,\tdrawlfsr.gd OK,\tdrawnlfsr.gd OK,\tinit.g done!!!\n",
      "misc.gi OK,\toutputs.gi OK,\tfsr.gi OK,\tlfsr.gi OK,\tnlfsr.gi OK,\tfsrfil.gi OK,\to\\\n",
      "utfsr.gi OK,\tdrawlfsr.gi OK,\tdrawnlfsr.gi OK,\tread.g done!!!\n",
      "\n",
      "You can now use 200 variables x_0 ...x_199\n",
      "misc.gd OK,\tweight.gd OK,\tmatrix.gd OK,\tnb.gd OK,\tfindElm.gd OK,\tfindPoly.gd O\\\n",
      "K,\tffbases.gd  OK,\tfindElm.gd OK,\tfindPolySpecial.gd OK,\talgs.gd OK,\talgsmatri\\\n",
      "x.gd OK,\tinit.g done!!!\n",
      "misc.gi OK,\tweight.gi OK,\tmatrix.gi OK,\tnb.gi OK,\tfindElm.gi OK,\tfindPoly.gi O\\\n",
      "K,\tffbases.gi  OK,\tfindElmSpecial.gi OK,\tfindPolySpecial.gi OK,\t\n",
      "variables\n",
      "[ \"a_0\", \"a_1\", \"a_2\", \"a_3\", \"a_4\", \"a_5\", \"a_6\", \"a_7\", \"a_8\", \"a_9\" ]\n",
      "[ \"b_0\", \"b_1\", \"b_2\", \"b_3\", \"b_4\", \"b_5\", \"b_6\", \"b_7\", \"b_8\", \"b_9\" ]\n",
      "[ \"d_0\", \"d_1\", \"d_2\", \"d_3\", \"d_4\", \"d_5\", \"d_6\", \"d_7\", \"d_8\", \"d_9\", \n",
      "  \"d_10\", \"d_11\", \"d_12\", \"d_13\", \"d_14\", \"d_15\", \"d_16\", \"d_17\", \"d_18\" ]\n",
      "algs.gi OK,\talgsmatrix.gi OK,\tread.g done!!!\n"
     ]
    },
    {
     "data": {
      "text/plain": [
       "true"
      ]
     },
     "execution_count": 1,
     "metadata": {
      "text/plain": ""
     },
     "output_type": "execute_result"
    }
   ],
   "source": [
    "LoadPackage(\"ffcsa\");"
   ]
  },
  {
   "cell_type": "code",
   "execution_count": null,
   "metadata": {},
   "outputs": [],
   "source": []
  }
 ],
 "metadata": {
  "kernelspec": {
   "display_name": "GAP 4",
   "language": "gap",
   "name": "gap-4"
  },
  "language_info": {
   "codemirror_mode": "gap",
   "file_extension": ".g",
   "mimetype": "text/x-gap",
   "name": "GAP 4",
   "nbconvert_exporter": "",
   "pygments_lexer": "gap",
   "version": "4.11.1"
  }
 },
 "nbformat": 4,
 "nbformat_minor": 4
}
